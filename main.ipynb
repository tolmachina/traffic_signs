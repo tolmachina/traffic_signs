{
 "metadata": {
  "language_info": {
   "codemirror_mode": {
    "name": "ipython",
    "version": 3
   },
   "file_extension": ".py",
   "mimetype": "text/x-python",
   "name": "python",
   "nbconvert_exporter": "python",
   "pygments_lexer": "ipython3",
   "version": "3.8.3"
  },
  "orig_nbformat": 4,
  "kernelspec": {
   "name": "python3",
   "display_name": "Python 3.8.3 64-bit ('env': venv)"
  },
  "interpreter": {
   "hash": "3c53dcb204cecf1fb6aeb6d81cffe2cbd7ac5cac1942f0ac18f20504b97b1ebf"
  }
 },
 "nbformat": 4,
 "nbformat_minor": 2,
 "cells": [
  {
   "cell_type": "code",
   "execution_count": 1,
   "metadata": {},
   "outputs": [],
   "source": [
    "import cv2\n",
    "import numpy as np\n",
    "import os\n",
    "import sys\n",
    "import tensorflow as tf\n",
    "from datetime import datetime\n",
    "from sklearn.model_selection import train_test_split\n",
    "import matplotlib.pyplot as plt\n",
    "import sklearn.metrics\n",
    "import itertools"
   ]
  },
  {
   "cell_type": "code",
   "execution_count": 2,
   "metadata": {},
   "outputs": [],
   "source": [
    "# Load the TensorBoard notebook extension\n",
    "%load_ext tensorboard"
   ]
  },
  {
   "cell_type": "code",
   "execution_count": 3,
   "metadata": {},
   "outputs": [],
   "source": [
    "# Clear any logs from previous runs\n",
    "!rm -rf ./logs/"
   ]
  },
  {
   "cell_type": "code",
   "execution_count": null,
   "metadata": {},
   "outputs": [],
   "source": []
  },
  {
   "cell_type": "code",
   "execution_count": 4,
   "metadata": {},
   "outputs": [],
   "source": [
    "\n",
    "EPOCHS = 10\n",
    "IMG_WIDTH = 30\n",
    "IMG_HEIGHT = 30\n",
    "NUM_CATEGORIES = 43\n",
    "TEST_SIZE = 0.4"
   ]
  },
  {
   "cell_type": "code",
   "execution_count": 5,
   "metadata": {},
   "outputs": [],
   "source": [
    "\n",
    "def accuracy(predictions,labels):\n",
    "    '''\n",
    "    Accuracy of a given set of predictions of size (N x n_classes) and\n",
    "    labels of size (N x n_classes)\n",
    "    '''\n",
    "    return np.sum(np.argmax(predictions,axis=1)==np.argmax(labels,axis=1))*100.0/labels.shape[0]\n",
    "\n",
    "\n",
    "def plot_confusion_matrix(cm, class_names):\n",
    "  \"\"\"\n",
    "  Returns a matplotlib figure containing the plotted confusion matrix.\n",
    "\n",
    "  Args:\n",
    "    cm (array, shape = [n, n]): a confusion matrix of integer classes\n",
    "    class_names (array, shape = [n]): String names of the integer classes\n",
    "  \"\"\"\n",
    "  figure = plt.figure(figsize=(8, 8))\n",
    "  plt.imshow(cm, interpolation='nearest', cmap=plt.cm.Blues)\n",
    "  plt.title(\"Confusion matrix\")\n",
    "  plt.colorbar()\n",
    "  tick_marks = np.arange(len(class_names))\n",
    "  plt.xticks(tick_marks, class_names, rotation=45)\n",
    "  plt.yticks(tick_marks, class_names)\n",
    "\n",
    "  # Compute the labels from the normalized confusion matrix.\n",
    "  labels = np.around(cm.astype('float') / cm.sum(axis=1)[:, np.newaxis], decimals=2)\n",
    "\n",
    "  # Use white text if squares are dark; otherwise black.\n",
    "  threshold = cm.max() / 2.\n",
    "  for i, j in itertools.product(range(cm.shape[0]), range(cm.shape[1])):\n",
    "    color = \"white\" if cm[i, j] > threshold else \"black\"\n",
    "    plt.text(j, i, labels[i, j], horizontalalignment=\"center\", color=color)\n",
    "\n",
    "  plt.tight_layout()\n",
    "  plt.ylabel('True label')\n",
    "  plt.xlabel('Predicted label')\n",
    "  return figure"
   ]
  },
  {
   "cell_type": "code",
   "execution_count": 6,
   "metadata": {},
   "outputs": [],
   "source": [
    "def plot_to_image(figure):\n",
    "    \"\"\"Converts the matplotlib plot specified by 'figure' to a PNG image and\n",
    "    returns it. The supplied figure is closed and inaccessible after this call.\"\"\"\n",
    "    # Save the plot to a PNG in memory.\n",
    "    buf = io.BytesIO()\n",
    "    plt.savefig(buf, format='png')\n",
    "    # Closing the figure prevents it from being displayed directly inside\n",
    "    # the notebook.\n",
    "    plt.close(figure)\n",
    "    buf.seek(0)\n",
    "    # Convert PNG buffer to TF image\n",
    "    image = tf.image.decode_png(buf.getvalue(), channels=4)\n",
    "    # Add the batch dimension\n",
    "    image = tf.expand_dims(image, 0)\n",
    "    return image"
   ]
  },
  {
   "cell_type": "code",
   "execution_count": 7,
   "metadata": {},
   "outputs": [],
   "source": [
    "def image_grid():\n",
    "  \"\"\"Return a 5x5 grid of the MNIST images as a matplotlib figure.\"\"\"\n",
    "  # Create a figure to contain the plot.\n",
    "  figure = plt.figure(figsize=(10,10))\n",
    "  for i in range(25):\n",
    "    # Start next subplot.\n",
    "    plt.subplot(5, 5, i + 1, title=class_names[train_labels[i]])\n",
    "    plt.xticks([])\n",
    "    plt.yticks([])\n",
    "    plt.grid(False)\n",
    "    plt.imshow(train_images[i], cmap=plt.cm.binary)\n",
    "\n",
    "  return figure"
   ]
  },
  {
   "cell_type": "code",
   "execution_count": 8,
   "metadata": {},
   "outputs": [],
   "source": [
    "def log_confusion_matrix(epoch, logs, model, test_images,test_labels, class_names,file_writer_cm):\n",
    "\n",
    " # Use the model to predict the values from the validation dataset.\n",
    "  test_pred_raw = model.predict(test_images)\n",
    "  test_pred = np.argmax(test_pred_raw, axis=1)\n",
    "\n",
    "  # Calculate the confusion matrix.\n",
    "  cm = sklearn.metrics.confusion_matrix(test_labels, test_pred)\n",
    "  # Log the confusion matrix as an image summary.\n",
    "  figure = plot_confusion_matrix(cm, class_names=class_names)\n",
    "  cm_image = plot_to_image(figure)\n",
    "\n",
    "  # Log the confusion matrix as an image summary.\n",
    "  with file_writer_cm.as_default():\n",
    "    tf.summary.image(\"Confusion Matrix\", cm_image, step=epoch)"
   ]
  },
  {
   "cell_type": "code",
   "execution_count": 9,
   "metadata": {},
   "outputs": [],
   "source": [
    "def load_data(data_dir):\n",
    "    \"\"\"\n",
    "    Load image data from directory `data_dir`.\n",
    "\n",
    "    Assume `data_dir` has one directory named after each category, numbered\n",
    "    0 through NUM_CATEGORIES - 1. Inside each category directory will be some\n",
    "    number of image files.\n",
    "\n",
    "    Return tuple `(images, labels)`. \n",
    "    \n",
    "    `images` should be a list of all of the images in the data directory, \n",
    "    where each image is formatted as a numpy ndarray with \n",
    "    dimensions IMG_WIDTH x IMG_HEIGHT x 3. \n",
    "    \n",
    "    `labels` should be a list of integer labels, representing the categories for each of the\n",
    "    corresponding `images`.\n",
    "    \"\"\"\n",
    "    images = []\n",
    "    labels = []\n",
    "    labels_str= []\n",
    "    filenames = []\n",
    "    for dir in os.listdir(data_dir):\n",
    "        # get path and filename\n",
    "        if dir[0] != \".\":\n",
    "            path = os.path.join(data_dir, dir)\n",
    "            category = path.split(os.sep)[-1:]\n",
    "            filename = os.listdir(path)\n",
    "            \n",
    "            # get img and scale it to 30,30\n",
    "            for fname in filename:\n",
    "                filepath = os.path.join(path,fname)\n",
    "                \n",
    "                img = cv2.imread(filepath)\n",
    "                \n",
    "                if img is None:\n",
    "                    sys.exit(\"Could not read the image.\")\n",
    "                \n",
    "                res = cv2.resize(img,(IMG_HEIGHT,IMG_WIDTH),interpolation = cv2.INTER_AREA)\n",
    "                \n",
    "                # add to image list and category list\n",
    "                images.append(res)\n",
    "                labels.append(int(category[0]))\n",
    "                labels_str.append(category[0])\n",
    "                filenames.append(fname)\n",
    "\n",
    "    # print(\"NumIng\", len(images),\"NumLab\", len(labels))\n",
    "    # print(\"Img shape\", images[0].shape)\n",
    "    # print(\"Labels types: \", type(labels[0]))\n",
    "   \n",
    "    return (images,labels,labels_str)\n",
    "\n",
    "# Get image arrays and labels for all image files\n",
    "images, labels, class_names = load_data(\"/Volumes/Seagate/Databases/gtsrb\")\n"
   ]
  },
  {
   "cell_type": "code",
   "execution_count": 10,
   "metadata": {},
   "outputs": [
    {
     "output_type": "execute_result",
     "data": {
      "text/plain": [
       "{0: 150,\n",
       " 1: 1500,\n",
       " 10: 1350,\n",
       " 11: 900,\n",
       " 12: 1410,\n",
       " 13: 1440,\n",
       " 14: 540,\n",
       " 15: 420,\n",
       " 16: 300,\n",
       " 17: 750,\n",
       " 18: 810,\n",
       " 19: 150,\n",
       " 2: 1500,\n",
       " 20: 240,\n",
       " 21: 240,\n",
       " 22: 270,\n",
       " 23: 360,\n",
       " 24: 180,\n",
       " 25: 1020,\n",
       " 26: 420,\n",
       " 27: 180,\n",
       " 28: 360,\n",
       " 29: 180,\n",
       " 3: 960,\n",
       " 30: 300,\n",
       " 31: 540,\n",
       " 32: 180,\n",
       " 33: 480,\n",
       " 34: 300,\n",
       " 35: 810,\n",
       " 36: 270,\n",
       " 37: 150,\n",
       " 38: 1380,\n",
       " 39: 210,\n",
       " 4: 1320,\n",
       " 40: 240,\n",
       " 41: 180,\n",
       " 42: 180,\n",
       " 5: 1260,\n",
       " 6: 300,\n",
       " 7: 960,\n",
       " 8: 960,\n",
       " 9: 990}"
      ]
     },
     "metadata": {},
     "execution_count": 10
    }
   ],
   "source": [
    "counter = {}\n",
    "\n",
    "for letter in labels:\n",
    "     if letter not in counter:\n",
    "         counter[letter] = 0\n",
    "     counter[letter] += 1\n",
    "counter\n"
   ]
  },
  {
   "cell_type": "code",
   "execution_count": 11,
   "metadata": {},
   "outputs": [],
   "source": [
    "# Check command-line arguments\n",
    "# if len(sys.argv) not in [2, 3]:\n",
    "#     sys.exit(\"Usage: python traffic.py data_directory [model.h5]\")\n",
    "# converting vector of integer to binary class matrix\n",
    "labels = tf.keras.utils.to_categorical(labels)\n",
    "\n",
    "# Split data into training and testing sets\n",
    "x_train, x_test, y_train, y_test = train_test_split(\n",
    "    np.array(images), np.array(labels), test_size=TEST_SIZE\n",
    ")"
   ]
  },
  {
   "cell_type": "code",
   "execution_count": 12,
   "metadata": {},
   "outputs": [
    {
     "output_type": "execute_result",
     "data": {
      "text/plain": [
       "array([0., 0., 0., 0., 0., 0., 1., 0., 0., 0., 0., 0., 0., 0., 0., 0., 0.,\n",
       "       0., 0., 0., 0., 0., 0., 0., 0., 0., 0., 0., 0., 0., 0., 0., 0., 0.,\n",
       "       0., 0., 0., 0., 0., 0., 0., 0., 0.], dtype=float32)"
      ]
     },
     "metadata": {},
     "execution_count": 12
    }
   ],
   "source": [
    "y_train[0]"
   ]
  },
  {
   "cell_type": "code",
   "execution_count": 13,
   "metadata": {},
   "outputs": [
    {
     "output_type": "execute_result",
     "data": {
      "text/plain": [
       "-1"
      ]
     },
     "metadata": {},
     "execution_count": 13
    }
   ],
   "source": [
    "x_train[0]\n",
    "cv2.imshow(\"DISPLAY IMG\", x_train[0])\n",
    "cv2.waitKey(60)"
   ]
  },
  {
   "cell_type": "code",
   "execution_count": 14,
   "metadata": {},
   "outputs": [
    {
     "output_type": "stream",
     "name": "stdout",
     "text": [
      "Model: \"sequential\"\n_________________________________________________________________\nLayer (type)                 Output Shape              Param #   \n=================================================================\nconv2d (Conv2D)              (None, 28, 28, 16)        448       \n_________________________________________________________________\nmax_pooling2d (MaxPooling2D) (None, 14, 14, 16)        0         \n_________________________________________________________________\nconv2d_1 (Conv2D)            (None, 12, 12, 64)        9280      \n_________________________________________________________________\nmax_pooling2d_1 (MaxPooling2 (None, 6, 6, 64)          0         \n_________________________________________________________________\nflatten (Flatten)            (None, 2304)              0         \n_________________________________________________________________\ndense (Dense)                (None, 256)               590080    \n_________________________________________________________________\ndropout (Dropout)            (None, 256)               0         \n_________________________________________________________________\ndense_1 (Dense)              (None, 43)                11051     \n=================================================================\nTotal params: 610,859\nTrainable params: 610,859\nNon-trainable params: 0\n_________________________________________________________________\n"
     ]
    }
   ],
   "source": [
    "# Get a compiled neural network. THE MODEL\n",
    "def get_model():\n",
    "    \"\"\"\n",
    "    Returns a compiled convolutional neural network model. Assume that the\n",
    "    `input_shape` of the first layer is `(IMG_WIDTH, IMG_HEIGHT, 3)`.\n",
    "    The output layer should have `NUM_CATEGORIES` units, one for each category.\n",
    "    \"\"\"\n",
    "    model = tf.keras.models.Sequential()\n",
    "    model.add(tf.keras.layers.Conv2D(\n",
    "        16,(3,3),activation=\"relu\",input_shape=(IMG_WIDTH,IMG_HEIGHT,3)\n",
    "    ))\n",
    "    model.add(tf.keras.layers.MaxPooling2D(pool_size=(2,2)))\n",
    "    model.add(tf.keras.layers.Conv2D(64,(3,3),activation = \"relu\"))\n",
    "    model.add(tf.keras.layers.MaxPooling2D(pool_size=(2,2)))\n",
    "    model.add(tf.keras.layers.Flatten())\n",
    "\n",
    "    model.add(tf.keras.layers.Dense(256, activation=\"relu\"))\n",
    "    model.add(tf.keras.layers.Dropout(0.2))\n",
    "    model.add(tf.keras.layers.Dense(NUM_CATEGORIES, activation=\"softmax\"))\n",
    "    model.compile(\n",
    "        optimizer=\"adam\",\n",
    "        loss=\"categorical_crossentropy\",\n",
    "        metrics=[\"accuracy\"]\n",
    "    )\n",
    "    model.summary()\n",
    "    return model\n",
    "\n",
    "model = get_model()"
   ]
  },
  {
   "cell_type": "code",
   "execution_count": 15,
   "metadata": {},
   "outputs": [],
   "source": [
    "#create logs FIT directory\n",
    "log_dir = \"logs/fit/\" + datetime.now().strftime(\"%Y%m%d-%H%M%S\")\n",
    "\n",
    "# a callback for datetime directory\n",
    "tensorboard_callback = tf.keras.callbacks.TensorBoard(log_dir=log_dir, histogram_freq=1)\n"
   ]
  },
  {
   "cell_type": "code",
   "execution_count": 17,
   "metadata": {},
   "outputs": [
    {
     "output_type": "stream",
     "name": "stdout",
     "text": [
      "Epoch 1/10\n",
      "500/500 [==============================] - 7s 13ms/step - loss: 2.0210 - accuracy: 0.6269 - val_loss: 0.4352 - val_accuracy: 0.8771\n",
      "Epoch 2/10\n",
      "500/500 [==============================] - 6s 12ms/step - loss: 0.3459 - accuracy: 0.9054 - val_loss: 0.2150 - val_accuracy: 0.9449\n",
      "Epoch 3/10\n",
      "500/500 [==============================] - 6s 11ms/step - loss: 0.1849 - accuracy: 0.9480 - val_loss: 0.1934 - val_accuracy: 0.9474\n",
      "Epoch 4/10\n",
      "500/500 [==============================] - 6s 11ms/step - loss: 0.1189 - accuracy: 0.9660 - val_loss: 0.1288 - val_accuracy: 0.9670\n",
      "Epoch 5/10\n",
      "500/500 [==============================] - 6s 12ms/step - loss: 0.1071 - accuracy: 0.9697 - val_loss: 0.1691 - val_accuracy: 0.9575\n",
      "Epoch 6/10\n",
      "500/500 [==============================] - 6s 12ms/step - loss: 0.1119 - accuracy: 0.9694 - val_loss: 0.1770 - val_accuracy: 0.9557\n",
      "Epoch 7/10\n",
      "500/500 [==============================] - 6s 12ms/step - loss: 0.0863 - accuracy: 0.9771 - val_loss: 0.1093 - val_accuracy: 0.9742\n",
      "Epoch 8/10\n",
      "500/500 [==============================] - 6s 12ms/step - loss: 0.1063 - accuracy: 0.9747 - val_loss: 0.1223 - val_accuracy: 0.9741\n",
      "Epoch 9/10\n",
      "500/500 [==============================] - 8s 15ms/step - loss: 0.1123 - accuracy: 0.9737 - val_loss: 0.1334 - val_accuracy: 0.9678\n",
      "Epoch 10/10\n",
      "500/500 [==============================] - 7s 15ms/step - loss: 0.0734 - accuracy: 0.9812 - val_loss: 0.1492 - val_accuracy: 0.9702\n",
      "start evaluation on test data...\n",
      "333/333 - 1s - loss: 0.1492 - accuracy: 0.9702\n"
     ]
    },
    {
     "output_type": "execute_result",
     "data": {
      "text/plain": [
       "[0.14916586875915527, 0.9701576828956604]"
      ]
     },
     "metadata": {},
     "execution_count": 17
    }
   ],
   "source": [
    "# Fit model on training data\n",
    "history = model.fit(x_train, y_train, epochs=EPOCHS,validation_data=(x_test, y_test), callbacks=[tensorboard_callback])\n",
    "# # Evaluate neural network performance\n",
    "print(\"start evaluation on test data...\")\n",
    "model.evaluate(x_test,  y_test, verbose=2)"
   ]
  },
  {
   "cell_type": "code",
   "execution_count": 20,
   "metadata": {},
   "outputs": [
    {
     "output_type": "stream",
     "name": "stdout",
     "text": [
      "333/333 [==============================] - 1s 3ms/step\n",
      "Prediction  0 guess = 1 probabality =  1.0\n",
      "Label  0 actual_category = 1\n",
      "Prediction  1 guess = 2 probabality =  0.9999968\n",
      "Label  1 actual_category = 2\n",
      "Prediction  2 guess = 34 probabality =  1.0\n",
      "Label  2 actual_category = 34\n",
      "Prediction  3 guess = 10 probabality =  1.0\n",
      "Label  3 actual_category = 10\n"
     ]
    }
   ],
   "source": [
    "# predictions\n",
    "predictions = model.predict(x_test, verbose=1)\n",
    "# predictions for 4 first images must be label 0\n",
    "for i in range(4):\n",
    "    print(f\"Prediction \",i, \"guess =\", np.argmax(predictions[i]),\"probabality = \", max(predictions[i]))\n",
    "    print(\"Label \", i,\"actual_category =\", np.argmax(y_test[i]))"
   ]
  },
  {
   "cell_type": "code",
   "execution_count": 21,
   "metadata": {},
   "outputs": [
    {
     "output_type": "stream",
     "name": "stdout",
     "text": [
      "INFO:tensorflow:Assets written to: model_5thJul/assets\n",
      "Model saved to model_5thJul.\n"
     ]
    }
   ],
   "source": [
    "# Save model to file\n",
    "filename = \"model_5thJul\"\n",
    "model.save(filename)\n",
    "print(f\"Model saved to {filename}.\")\n"
   ]
  },
  {
   "cell_type": "code",
   "execution_count": 22,
   "metadata": {},
   "outputs": [
    {
     "output_type": "display_data",
     "data": {
      "text/plain": "Reusing TensorBoard on port 6006 (pid 21461), started 1 day, 1:52:56 ago. (Use '!kill 21461' to kill it.)"
     },
     "metadata": {}
    }
   ],
   "source": [
    "%tensorboard --logdir logs/fit\n"
   ]
  },
  {
   "cell_type": "code",
   "execution_count": null,
   "metadata": {},
   "outputs": [],
   "source": []
  }
 ]
}